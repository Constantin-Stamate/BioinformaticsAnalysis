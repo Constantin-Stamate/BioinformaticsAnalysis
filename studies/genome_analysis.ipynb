{
  "cells": [
    {
      "cell_type": "markdown",
      "metadata": {
        "id": "J5p-bPlmnZk6"
      },
      "source": [
        "**<small>Abstract:</small>**\n",
        "\n",
        "<small>This genomic analysis involves a series of bioinformatics steps to process and assess the quality of sequencing data. Initially, raw genomic data files (FASTA or FASTQ) are downloaded and decompressed to obtain readable sequences. Subsets of these sequences are extracted for efficient processing using commands such as head. The reference genome is indexed with the Burrows-Wheeler Aligner (BWA) tool, which prepares the genome for fast and accurate alignment. Subsequently, sequencing reads are aligned to the indexed reference genome using the BWA-MEM algorithm, producing alignment files in SAM format. Quality control of the sequencing reads is conducted using FastQC, which generates detailed reports and visualizations to evaluate read quality, sequence length distribution, GC content, and other important metrics. </small>"
      ]
    },
    {
      "cell_type": "markdown",
      "metadata": {
        "id": "97IKMzYNoF8e"
      },
      "source": [
        "**<small>Install Miniconda</small>**"
      ]
    },
    {
      "cell_type": "code",
      "execution_count": 1,
      "metadata": {
        "id": "fAoqA3kanrTE"
      },
      "outputs": [],
      "source": [
        "%%bash\n",
        "# Download the Miniconda installer for Python 3.9 (Linux 64-bit), suppressing output\n",
        "wget https://repo.anaconda.com/miniconda/Miniconda3-py39_4.10.3-Linux-x86_64.sh &>/dev/null\n",
        "\n",
        "# Make the installer executable\n",
        "chmod u+x Miniconda3-py39_4.10.3-Linux-x86_64.sh\n",
        "\n",
        "# Run the installer in batch mode, force overwrite if needed, and install to /usr/local (no output)\n",
        "./Miniconda3-py39_4.10.3-Linux-x86_64.sh -b -f -p /usr/local &>/dev/null\n",
        "\n",
        "# Delete the installer script after installation\n",
        "rm Miniconda3-py39_4.10.3-Linux-x86_64.sh"
      ]
    },
    {
      "cell_type": "markdown",
      "metadata": {
        "id": "MjHCalxHoPZZ"
      },
      "source": [
        "**<small>Install the package manager Mamba</small>**"
      ]
    },
    {
      "cell_type": "code",
      "execution_count": 2,
      "metadata": {
        "colab": {
          "base_uri": "https://localhost:8080/"
        },
        "id": "sepKILohoKfx",
        "outputId": "673ff96b-a034-47ed-e246-fdd0509d76e0"
      },
      "outputs": [
        {
          "name": "stdout",
          "output_type": "stream",
          "text": [
            "Collecting package metadata (current_repodata.json): ...working... done\n",
            "Solving environment: ...working... done\n",
            "\n",
            "## Package Plan ##\n",
            "\n",
            "  environment location: /usr/local\n",
            "\n",
            "  added / updated specs:\n",
            "    - mamba\n",
            "\n",
            "\n",
            "The following packages will be downloaded:\n",
            "\n",
            "    package                    |            build\n",
            "    ---------------------------|-----------------\n",
            "    bzip2-1.0.8                |       h4bc722e_7         247 KB  conda-forge\n",
            "    c-ares-1.34.5              |       hb9d3cd8_0         202 KB  conda-forge\n",
            "    ca-certificates-2025.6.15  |       hbd8a1cb_0         148 KB  conda-forge\n",
            "    certifi-2025.6.15          |     pyhd8ed1ab_0         152 KB  conda-forge\n",
            "    cffi-1.17.1                |   py39h15c3d72_0         236 KB  conda-forge\n",
            "    conda-22.11.1              |   py39hf3d152e_1         904 KB  conda-forge\n",
            "    cpp-expected-1.1.0         |       hff21bea_1          24 KB  conda-forge\n",
            "    cryptography-45.0.4        |   py39h7170ec2_0         1.5 MB  conda-forge\n",
            "    fmt-11.1.4                 |       h07f6e7f_1         187 KB  conda-forge\n",
            "    krb5-1.21.3                |       h143b758_0         1.3 MB\n",
            "    ld_impl_linux-64-2.43      |       h1423503_5         655 KB  conda-forge\n",
            "    libarchive-3.8.1           | gpl_h98cc613_100         863 KB  conda-forge\n",
            "    libcurl-8.14.1             |       h332b0f4_0         439 KB  conda-forge\n",
            "    libedit-3.1.20250104       | pl5321h7949ede_0         132 KB  conda-forge\n",
            "    libev-4.33                 |       hd590300_2         110 KB  conda-forge\n",
            "    libexpat-2.7.0             |       h5888daf_0          73 KB  conda-forge\n",
            "    libffi-3.4.6               |       h2dba641_1          56 KB  conda-forge\n",
            "    libgcc-15.1.0              |       h767d61c_3         806 KB  conda-forge\n",
            "    libgcc-ng-15.1.0           |       h69a702a_3          28 KB  conda-forge\n",
            "    libgomp-15.1.0             |       h767d61c_3         437 KB  conda-forge\n",
            "    libiconv-1.18              |       h4ce23a2_1         696 KB  conda-forge\n",
            "    liblzma-5.8.1              |       hb9d3cd8_2         110 KB  conda-forge\n",
            "    libmamba-2.3.0             |       h44402ff_1         2.3 MB  conda-forge\n",
            "    libnghttp2-1.64.0          |       h161d5f1_0         632 KB  conda-forge\n",
            "    libnsl-2.0.1               |       hb9d3cd8_1          33 KB  conda-forge\n",
            "    libsolv-0.7.33             |       h7955e40_0         466 KB  conda-forge\n",
            "    libsqlite-3.50.2           |       h6cd9bfd_0         897 KB  conda-forge\n",
            "    libssh2-1.11.1             |       hcf80075_0         298 KB  conda-forge\n",
            "    libstdcxx-15.1.0           |       h8f9b012_3         3.7 MB  conda-forge\n",
            "    libuuid-2.38.1             |       h0b41bf4_0          33 KB  conda-forge\n",
            "    libxcrypt-4.4.36           |       hd590300_1          98 KB  conda-forge\n",
            "    libxml2-2.13.8             |       h81593ed_0         673 KB  conda-forge\n",
            "    libzlib-1.3.1              |       hb9d3cd8_2          60 KB  conda-forge\n",
            "    lz4-c-1.10.0               |       h5888daf_1         163 KB  conda-forge\n",
            "    lzo-2.10                   |    hd590300_1001         167 KB  conda-forge\n",
            "    mamba-2.3.0                |       h233bd08_1         502 KB  conda-forge\n",
            "    ncurses-6.5                |       h2d0b736_3         871 KB  conda-forge\n",
            "    nlohmann_json-3.11.3       |       h59595ed_0         120 KB  conda-forge\n",
            "    openssl-3.5.1              |       h7b32b05_0         3.0 MB  conda-forge\n",
            "    pluggy-1.6.0               |     pyhd8ed1ab_0          24 KB  conda-forge\n",
            "    python-3.9.23              |hc30ae73_0_cpython        22.6 MB  conda-forge\n",
            "    python_abi-3.9             |           7_cp39           7 KB  conda-forge\n",
            "    readline-8.2               |       h8c095d6_2         276 KB  conda-forge\n",
            "    reproc-14.2.5.post0        |       hb9d3cd8_0          33 KB  conda-forge\n",
            "    reproc-cpp-14.2.5.post0    |       h5888daf_0          25 KB  conda-forge\n",
            "    ruamel.yaml-0.17.40        |   py39hd1e30aa_0         192 KB  conda-forge\n",
            "    ruamel.yaml.clib-0.2.8     |   py39h8cd3c5a_1         144 KB  conda-forge\n",
            "    simdjson-3.13.0            |       h84d6215_0         242 KB  conda-forge\n",
            "    tk-8.6.13                  |noxft_hd72426e_102         3.1 MB  conda-forge\n",
            "    toolz-1.0.0                |     pyhd8ed1ab_1          51 KB  conda-forge\n",
            "    yaml-cpp-0.8.0             |       h3f2d84a_0         218 KB  conda-forge\n",
            "    zstd-1.5.7                 |       hb8e6e7a_2         554 KB  conda-forge\n",
            "    ------------------------------------------------------------\n",
            "                                           Total:        50.5 MB\n",
            "\n",
            "The following NEW packages will be INSTALLED:\n",
            "\n",
            "  bzip2              conda-forge/linux-64::bzip2-1.0.8-h4bc722e_7\n",
            "  c-ares             conda-forge/linux-64::c-ares-1.34.5-hb9d3cd8_0\n",
            "  cpp-expected       conda-forge/linux-64::cpp-expected-1.1.0-hff21bea_1\n",
            "  fmt                conda-forge/linux-64::fmt-11.1.4-h07f6e7f_1\n",
            "  krb5               pkgs/main/linux-64::krb5-1.21.3-h143b758_0\n",
            "  libarchive         conda-forge/linux-64::libarchive-3.8.1-gpl_h98cc613_100\n",
            "  libcurl            conda-forge/linux-64::libcurl-8.14.1-h332b0f4_0\n",
            "  libedit            conda-forge/linux-64::libedit-3.1.20250104-pl5321h7949ede_0\n",
            "  libev              conda-forge/linux-64::libev-4.33-hd590300_2\n",
            "  libexpat           conda-forge/linux-64::libexpat-2.7.0-h5888daf_0\n",
            "  libgcc             conda-forge/linux-64::libgcc-15.1.0-h767d61c_3\n",
            "  libiconv           conda-forge/linux-64::libiconv-1.18-h4ce23a2_1\n",
            "  liblzma            conda-forge/linux-64::liblzma-5.8.1-hb9d3cd8_2\n",
            "  libmamba           conda-forge/linux-64::libmamba-2.3.0-h44402ff_1\n",
            "  libnghttp2         conda-forge/linux-64::libnghttp2-1.64.0-h161d5f1_0\n",
            "  libnsl             conda-forge/linux-64::libnsl-2.0.1-hb9d3cd8_1\n",
            "  libsolv            conda-forge/linux-64::libsolv-0.7.33-h7955e40_0\n",
            "  libsqlite          conda-forge/linux-64::libsqlite-3.50.2-h6cd9bfd_0\n",
            "  libssh2            conda-forge/linux-64::libssh2-1.11.1-hcf80075_0\n",
            "  libstdcxx          conda-forge/linux-64::libstdcxx-15.1.0-h8f9b012_3\n",
            "  libuuid            conda-forge/linux-64::libuuid-2.38.1-h0b41bf4_0\n",
            "  libxcrypt          conda-forge/linux-64::libxcrypt-4.4.36-hd590300_1\n",
            "  libxml2            conda-forge/linux-64::libxml2-2.13.8-h81593ed_0\n",
            "  libzlib            conda-forge/linux-64::libzlib-1.3.1-hb9d3cd8_2\n",
            "  lz4-c              conda-forge/linux-64::lz4-c-1.10.0-h5888daf_1\n",
            "  lzo                conda-forge/linux-64::lzo-2.10-hd590300_1001\n",
            "  mamba              conda-forge/linux-64::mamba-2.3.0-h233bd08_1\n",
            "  nlohmann_json      conda-forge/linux-64::nlohmann_json-3.11.3-h59595ed_0\n",
            "  pluggy             conda-forge/noarch::pluggy-1.6.0-pyhd8ed1ab_0\n",
            "  python_abi         conda-forge/noarch::python_abi-3.9-7_cp39\n",
            "  reproc             conda-forge/linux-64::reproc-14.2.5.post0-hb9d3cd8_0\n",
            "  reproc-cpp         conda-forge/linux-64::reproc-cpp-14.2.5.post0-h5888daf_0\n",
            "  ruamel.yaml        conda-forge/linux-64::ruamel.yaml-0.17.40-py39hd1e30aa_0\n",
            "  ruamel.yaml.clib   conda-forge/linux-64::ruamel.yaml.clib-0.2.8-py39h8cd3c5a_1\n",
            "  simdjson           conda-forge/linux-64::simdjson-3.13.0-h84d6215_0\n",
            "  toolz              conda-forge/noarch::toolz-1.0.0-pyhd8ed1ab_1\n",
            "  yaml-cpp           conda-forge/linux-64::yaml-cpp-0.8.0-h3f2d84a_0\n",
            "  zstd               conda-forge/linux-64::zstd-1.5.7-hb8e6e7a_2\n",
            "\n",
            "The following packages will be REMOVED:\n",
            "\n",
            "  sqlite-3.36.0-hc218d9a_0\n",
            "  xz-5.2.5-h7b6447c_0\n",
            "  zlib-1.2.11-h7b6447c_3\n",
            "\n",
            "The following packages will be UPDATED:\n",
            "\n",
            "  ca-certificates    pkgs/main/linux-64::ca-certificates-2~ --> conda-forge/noarch::ca-certificates-2025.6.15-hbd8a1cb_0\n",
            "  certifi            pkgs/main/linux-64::certifi-2021.5.30~ --> conda-forge/noarch::certifi-2025.6.15-pyhd8ed1ab_0\n",
            "  cffi                pkgs/main::cffi-1.14.6-py39h400218f_0 --> conda-forge::cffi-1.17.1-py39h15c3d72_0\n",
            "  conda              pkgs/main::conda-4.10.3-py39h06a4308_0 --> conda-forge::conda-22.11.1-py39hf3d152e_1\n",
            "  cryptography       pkgs/main::cryptography-3.4.7-py39hd2~ --> conda-forge::cryptography-45.0.4-py39h7170ec2_0\n",
            "  ld_impl_linux-64   pkgs/main::ld_impl_linux-64-2.35.1-h7~ --> conda-forge::ld_impl_linux-64-2.43-h1423503_5\n",
            "  libffi                   pkgs/main::libffi-3.3-he6710b0_2 --> conda-forge::libffi-3.4.6-h2dba641_1\n",
            "  libgcc-ng          pkgs/main::libgcc-ng-9.3.0-h5101ec6_17 --> conda-forge::libgcc-ng-15.1.0-h69a702a_3\n",
            "  libgomp              pkgs/main::libgomp-9.3.0-h5101ec6_17 --> conda-forge::libgomp-15.1.0-h767d61c_3\n",
            "  ncurses                 pkgs/main::ncurses-6.2-he6710b0_1 --> conda-forge::ncurses-6.5-h2d0b736_3\n",
            "  openssl              pkgs/main::openssl-1.1.1k-h27cfd23_0 --> conda-forge::openssl-3.5.1-h7b32b05_0\n",
            "  python                 pkgs/main::python-3.9.5-h12debd9_4 --> conda-forge::python-3.9.23-hc30ae73_0_cpython\n",
            "  readline               pkgs/main::readline-8.1-h27cfd23_0 --> conda-forge::readline-8.2-h8c095d6_2\n",
            "  tk                        pkgs/main::tk-8.6.10-hbc83047_0 --> conda-forge::tk-8.6.13-noxft_hd72426e_102\n",
            "\n",
            "\n",
            "\n",
            "Downloading and Extracting Packages\n",
            "\rlzo-2.10             | 167 KB    |            |   0% \rlzo-2.10             | 167 KB    | #9         |  19% \rlzo-2.10             | 167 KB    | ########## | 100% \rlzo-2.10             | 167 KB    | ########## | 100% \n",
            "\rpluggy-1.6.0         | 24 KB     |            |   0% \rpluggy-1.6.0         | 24 KB     | ########## | 100% \rpluggy-1.6.0         | 24 KB     | ########## | 100% \n",
            "\rliblzma-5.8.1        | 110 KB    |            |   0% \rliblzma-5.8.1        | 110 KB    | ########## | 100% \rliblzma-5.8.1        | 110 KB    | ########## | 100% \n",
            "\rlibev-4.33           | 110 KB    |            |   0% \rlibev-4.33           | 110 KB    | ########## | 100% \rlibev-4.33           | 110 KB    | ########## | 100% \n",
            "\rfmt-11.1.4           | 187 KB    |            |   0% \rfmt-11.1.4           | 187 KB    | ########## | 100% \rfmt-11.1.4           | 187 KB    | ########## | 100% \n",
            "\rlibxcrypt-4.4.36     | 98 KB     |            |   0% \rlibxcrypt-4.4.36     | 98 KB     | ########## | 100% \rlibxcrypt-4.4.36     | 98 KB     | ########## | 100% \n",
            "\rc-ares-1.34.5        | 202 KB    |            |   0% \rc-ares-1.34.5        | 202 KB    | ########## | 100% \rc-ares-1.34.5        | 202 KB    | ########## | 100% \n",
            "\rlz4-c-1.10.0         | 163 KB    |            |   0% \rlz4-c-1.10.0         | 163 KB    | ########## | 100% \rlz4-c-1.10.0         | 163 KB    | ########## | 100% \n",
            "\rpython-3.9.23        | 22.6 MB   |            |   0% \rpython-3.9.23        | 22.6 MB   | #5         |  16% \rpython-3.9.23        | 22.6 MB   | #####4     |  54% \rpython-3.9.23        | 22.6 MB   | #########6 |  97% \rpython-3.9.23        | 22.6 MB   | ########## | 100% \n",
            "\rlibarchive-3.8.1     | 863 KB    |            |   0% \rlibarchive-3.8.1     | 863 KB    | ########## | 100% \rlibarchive-3.8.1     | 863 KB    | ########## | 100% \n",
            "\ropenssl-3.5.1        | 3.0 MB    |            |   0% \ropenssl-3.5.1        | 3.0 MB    | ########## | 100% \ropenssl-3.5.1        | 3.0 MB    | ########## | 100% \n",
            "\rsimdjson-3.13.0      | 242 KB    |            |   0% \rsimdjson-3.13.0      | 242 KB    | ########## | 100% \rsimdjson-3.13.0      | 242 KB    | ########## | 100% \n",
            "\rlibgcc-15.1.0        | 806 KB    |            |   0% \rlibgcc-15.1.0        | 806 KB    | ########## | 100% \rlibgcc-15.1.0        | 806 KB    | ########## | 100% \n",
            "\ryaml-cpp-0.8.0       | 218 KB    |            |   0% \ryaml-cpp-0.8.0       | 218 KB    | ########## | 100% \ryaml-cpp-0.8.0       | 218 KB    | ########## | 100% \n",
            "\rlibgcc-ng-15.1.0     | 28 KB     |            |   0% \rlibgcc-ng-15.1.0     | 28 KB     | ########## | 100% \rlibgcc-ng-15.1.0     | 28 KB     | ########## | 100% \n",
            "\rlibgomp-15.1.0       | 437 KB    |            |   0% \rlibgomp-15.1.0       | 437 KB    | ########## | 100% \rlibgomp-15.1.0       | 437 KB    | ########## | 100% \n",
            "\rlibnsl-2.0.1         | 33 KB     |            |   0% \rlibnsl-2.0.1         | 33 KB     | ########## | 100% \rlibnsl-2.0.1         | 33 KB     | ########## | 100% \n",
            "\rlibsqlite-3.50.2     | 897 KB    |            |   0% \rlibsqlite-3.50.2     | 897 KB    | ########## | 100% \rlibsqlite-3.50.2     | 897 KB    | ########## | 100% \n",
            "\rca-certificates-2025 | 148 KB    |            |   0% \rca-certificates-2025 | 148 KB    | ########## | 100% \rca-certificates-2025 | 148 KB    | ########## | 100% \n",
            "\rmamba-2.3.0          | 502 KB    |            |   0% \rmamba-2.3.0          | 502 KB    | 3          |   3% \rmamba-2.3.0          | 502 KB    | ###8       |  38% \rmamba-2.3.0          | 502 KB    | ########## | 100% \rmamba-2.3.0          | 502 KB    | ########## | 100% \n",
            "\rlibiconv-1.18        | 696 KB    |            |   0% \rlibiconv-1.18        | 696 KB    | ########## | 100% \rlibiconv-1.18        | 696 KB    | ########## | 100% \n",
            "\rncurses-6.5          | 871 KB    |            |   0% \rncurses-6.5          | 871 KB    | ########## | 100% \rncurses-6.5          | 871 KB    | ########## | 100% \n",
            "\rcffi-1.17.1          | 236 KB    |            |   0% \rcffi-1.17.1          | 236 KB    | ########## | 100% \rcffi-1.17.1          | 236 KB    | ########## | 100% \n",
            "\rreadline-8.2         | 276 KB    |            |   0% \rreadline-8.2         | 276 KB    | ########## | 100% \rreadline-8.2         | 276 KB    | ########## | 100% \n",
            "\rconda-22.11.1        | 904 KB    |            |   0% \rconda-22.11.1        | 904 KB    | ########## | 100% \rconda-22.11.1        | 904 KB    | ########## | 100% \n",
            "\rnlohmann_json-3.11.3 | 120 KB    |            |   0% \rnlohmann_json-3.11.3 | 120 KB    | ########## | 100% \rnlohmann_json-3.11.3 | 120 KB    | ########## | 100% \n",
            "\rcryptography-45.0.4  | 1.5 MB    |            |   0% \rcryptography-45.0.4  | 1.5 MB    | ########## | 100% \rcryptography-45.0.4  | 1.5 MB    | ########## | 100% \n",
            "\rld_impl_linux-64-2.4 | 655 KB    |            |   0% \rld_impl_linux-64-2.4 | 655 KB    | ########## | 100% \rld_impl_linux-64-2.4 | 655 KB    | ########## | 100% \n",
            "\rruamel.yaml-0.17.40  | 192 KB    |            |   0% \rruamel.yaml-0.17.40  | 192 KB    | ########## | 100% \rruamel.yaml-0.17.40  | 192 KB    | ########## | 100% \n",
            "\rkrb5-1.21.3          | 1.3 MB    |            |   0% \rkrb5-1.21.3          | 1.3 MB    | 2          |   2% \rkrb5-1.21.3          | 1.3 MB    | ########## | 100% \rkrb5-1.21.3          | 1.3 MB    | ########## | 100% \n",
            "\rlibzlib-1.3.1        | 60 KB     |            |   0% \rlibzlib-1.3.1        | 60 KB     | ########## | 100% \rlibzlib-1.3.1        | 60 KB     | ########## | 100% \n",
            "\rbzip2-1.0.8          | 247 KB    |            |   0% \rbzip2-1.0.8          | 247 KB    | ########## | 100% \rbzip2-1.0.8          | 247 KB    | ########## | 100% \n",
            "\rlibuuid-2.38.1       | 33 KB     |            |   0% \rlibuuid-2.38.1       | 33 KB     | ########## | 100% \rlibuuid-2.38.1       | 33 KB     | ########## | 100% \n",
            "\rpython_abi-3.9       | 7 KB      |            |   0% \rpython_abi-3.9       | 7 KB      | ########## | 100% \rpython_abi-3.9       | 7 KB      | ########## | 100% \n",
            "\rreproc-cpp-14.2.5.po | 25 KB     |            |   0% \rreproc-cpp-14.2.5.po | 25 KB     | ########## | 100% \rreproc-cpp-14.2.5.po | 25 KB     | ########## | 100% \n",
            "\rlibmamba-2.3.0       | 2.3 MB    |            |   0% \rlibmamba-2.3.0       | 2.3 MB    | ########## | 100% \rlibmamba-2.3.0       | 2.3 MB    | ########## | 100% \n",
            "\rlibffi-3.4.6         | 56 KB     |            |   0% \rlibffi-3.4.6         | 56 KB     | ########## | 100% \rlibffi-3.4.6         | 56 KB     | ########## | 100% \n",
            "\rcertifi-2025.6.15    | 152 KB    |            |   0% \rcertifi-2025.6.15    | 152 KB    | ########## | 100% \rcertifi-2025.6.15    | 152 KB    | ########## | 100% \n",
            "\rlibssh2-1.11.1       | 298 KB    |            |   0% \rlibssh2-1.11.1       | 298 KB    | ########## | 100% \rlibssh2-1.11.1       | 298 KB    | ########## | 100% \n",
            "\rlibcurl-8.14.1       | 439 KB    |            |   0% \rlibcurl-8.14.1       | 439 KB    | ########## | 100% \rlibcurl-8.14.1       | 439 KB    | ########## | 100% \n",
            "\rtoolz-1.0.0          | 51 KB     |            |   0% \rtoolz-1.0.0          | 51 KB     | ########## | 100% \rtoolz-1.0.0          | 51 KB     | ########## | 100% \n",
            "\rlibxml2-2.13.8       | 673 KB    |            |   0% \rlibxml2-2.13.8       | 673 KB    | ########## | 100% \rlibxml2-2.13.8       | 673 KB    | ########## | 100% \n",
            "\rlibstdcxx-15.1.0     | 3.7 MB    |            |   0% \rlibstdcxx-15.1.0     | 3.7 MB    | ########## | 100% \rlibstdcxx-15.1.0     | 3.7 MB    | ########## | 100% \n",
            "\rreproc-14.2.5.post0  | 33 KB     |            |   0% \rreproc-14.2.5.post0  | 33 KB     | ########## | 100% \rreproc-14.2.5.post0  | 33 KB     | ########## | 100% \n",
            "\rlibsolv-0.7.33       | 466 KB    |            |   0% \rlibsolv-0.7.33       | 466 KB    | ########## | 100% \rlibsolv-0.7.33       | 466 KB    | ########## | 100% \n",
            "\rlibexpat-2.7.0       | 73 KB     |            |   0% \rlibexpat-2.7.0       | 73 KB     | ########## | 100% \rlibexpat-2.7.0       | 73 KB     | ########## | 100% \n",
            "\rcpp-expected-1.1.0   | 24 KB     |            |   0% \rcpp-expected-1.1.0   | 24 KB     | ########## | 100% \rcpp-expected-1.1.0   | 24 KB     | ########## | 100% \n",
            "\rlibnghttp2-1.64.0    | 632 KB    |            |   0% \rlibnghttp2-1.64.0    | 632 KB    | ########## | 100% \rlibnghttp2-1.64.0    | 632 KB    | ########## | 100% \n",
            "\rruamel.yaml.clib-0.2 | 144 KB    |            |   0% \rruamel.yaml.clib-0.2 | 144 KB    | ########## | 100% \rruamel.yaml.clib-0.2 | 144 KB    | ########## | 100% \n",
            "\rzstd-1.5.7           | 554 KB    |            |   0% \rzstd-1.5.7           | 554 KB    | ########## | 100% \rzstd-1.5.7           | 554 KB    | ########## | 100% \n",
            "\rtk-8.6.13            | 3.1 MB    |            |   0% \rtk-8.6.13            | 3.1 MB    | ########## | 100% \rtk-8.6.13            | 3.1 MB    | ########## | 100% \n",
            "\rlibedit-3.1.20250104 | 132 KB    |            |   0% \rlibedit-3.1.20250104 | 132 KB    | ########## | 100% \rlibedit-3.1.20250104 | 132 KB    | ########## | 100% \n",
            "Preparing transaction: ...working... done\n",
            "Verifying transaction: ...working... done\n",
            "Executing transaction: ...working... done\n"
          ]
        },
        {
          "name": "stderr",
          "output_type": "stream",
          "text": [
            "\n",
            "\n",
            "==> WARNING: A newer version of conda exists. <==\n",
            "  current version: 4.10.3\n",
            "  latest version: 25.5.1\n",
            "\n",
            "Please update conda by running\n",
            "\n",
            "    $ conda update -n base -c defaults conda\n",
            "\n",
            "\n"
          ]
        }
      ],
      "source": [
        "%%bash\n",
        "# Install the 'mamba' package manager from the conda-forge channel without prompting for confirmation\n",
        "conda install -c conda-forge mamba --yes"
      ]
    },
    {
      "cell_type": "code",
      "execution_count": 3,
      "metadata": {
        "colab": {
          "base_uri": "https://localhost:8080/"
        },
        "id": "gT6dloChrfRF",
        "outputId": "0c938794-8c25-4d84-e8df-09e08f8b87e3"
      },
      "outputs": [
        {
          "name": "stdout",
          "output_type": "stream",
          "text": [
            "bin/micromamba\n"
          ]
        }
      ],
      "source": [
        "%%bash\n",
        "# Download the latest version of micromamba for Linux 64-bit and extract only the binary file\n",
        "wget -qO- https://micromamba.snakepit.net/api/micromamba/linux-64/latest | tar -xvj bin/micromamba\n",
        "\n",
        "# Create the target directory for micromamba if it doesn't exist\n",
        "mkdir -p /usr/local/micromamba\n",
        "\n",
        "# Move the micromamba binary to the target directory\n",
        "mv bin/micromamba /usr/local/micromamba/\n",
        "\n",
        "# Remove the now-empty 'bin' directory after moving the binary\n",
        "rm -r bin"
      ]
    },
    {
      "cell_type": "code",
      "execution_count": 4,
      "metadata": {
        "colab": {
          "base_uri": "https://localhost:8080/"
        },
        "id": "4XtOMjnvr7Mu",
        "outputId": "00ffaac6-aaf1-4b62-ef90-65419a484fa6"
      },
      "outputs": [
        {
          "name": "stdout",
          "output_type": "stream",
          "text": [
            "\n",
            "\n",
            "Transaction\n",
            "\n",
            "  Prefix: /usr/local/envs/lab11\n",
            "\n",
            "  Updating specs:\n",
            "\n",
            "   - bwa\n",
            "\n",
            "\n",
            "  Package          Version  Build             Channel           Size\n",
            "──────────────────────────────────────────────────────────────────────\n",
            "  Install:\n",
            "──────────────────────────────────────────────────────────────────────\n",
            "\n",
            "  + _libgcc_mutex      0.1  conda_forge       conda-forge        3kB\n",
            "  + _openmp_mutex      4.5  2_gnu             conda-forge       24kB\n",
            "  + bwa             0.7.19  h577a1d6_1        bioconda         654kB\n",
            "  + libgcc          15.1.0  h767d61c_3        conda-forge     Cached\n",
            "  + libgcc-ng       15.1.0  h69a702a_3        conda-forge     Cached\n",
            "  + libgomp         15.1.0  h767d61c_3        conda-forge     Cached\n",
            "  + libxcrypt       4.4.36  hd590300_1        conda-forge     Cached\n",
            "  + libzlib          1.3.1  hb9d3cd8_2        conda-forge     Cached\n",
            "  + perl            5.32.1  7_hd590300_perl5  conda-forge       13MB\n",
            "\n",
            "  Summary:\n",
            "\n",
            "  Install: 9 packages\n",
            "\n",
            "  Total download: 14MB\n",
            "\n",
            "──────────────────────────────────────────────────────────────────────\n",
            "\n",
            "\n",
            "\n",
            "Transaction starting\n",
            "Linking libgomp-15.1.0-h767d61c_3\n",
            "Linking _libgcc_mutex-0.1-conda_forge\n",
            "Linking _openmp_mutex-4.5-2_gnu\n",
            "Linking libgcc-15.1.0-h767d61c_3\n",
            "Linking libgcc-ng-15.1.0-h69a702a_3\n",
            "Linking libzlib-1.3.1-hb9d3cd8_2\n",
            "Linking libxcrypt-4.4.36-hd590300_1\n",
            "Linking perl-5.32.1-7_hd590300_perl5\n",
            "Linking bwa-0.7.19-h577a1d6_1\n",
            "\n",
            "Transaction finished\n",
            "\n",
            "\n",
            "To activate this environment, use:\n",
            "\n",
            "    micromamba activate lab11\n",
            "\n",
            "Or to execute a single command in this environment, use:\n",
            "\n",
            "    micromamba run -n lab11 mycommand\n",
            "\n"
          ]
        }
      ],
      "source": [
        "%%bash\n",
        "# Create a new micromamba environment named 'lab11'\n",
        "# The environment will be created using packages from the bioconda and conda-forge channels\n",
        "# The only package installed in this command is 'bwa' (a tool for aligning sequencing reads)\n",
        "# The '-y' flag automatically confirms the installation\n",
        "/usr/local/micromamba/micromamba create -y -n lab11 -c bioconda -c conda-forge \\\n",
        "   bwa"
      ]
    },
    {
      "cell_type": "code",
      "execution_count": 8,
      "metadata": {
        "colab": {
          "base_uri": "https://localhost:8080/"
        },
        "id": "nqerhuITs2rF",
        "outputId": "9bdd7452-feea-491e-8101-3827c039d93a"
      },
      "outputs": [
        {
          "name": "stdout",
          "output_type": "stream",
          "text": [
            "\n",
            "Program: bwa (alignment via Burrows-Wheeler transformation)\n",
            "Version: 0.7.19-r1273\n",
            "Contact: Heng Li <hli@ds.dfci.harvard.edu>\n",
            "\n",
            "Usage:   bwa <command> [options]\n",
            "\n",
            "Command: index         index sequences in the FASTA format\n",
            "         mem           BWA-MEM algorithm\n",
            "         fastmap       identify super-maximal exact matches\n"
          ]
        }
      ],
      "source": [
        "%%bash\n",
        "# Initialize the micromamba shell hook for bash\n",
        "# This sets up the shell so that micromamba commands (like activate) work properly\n",
        "eval \"$(/usr/local/micromamba/micromamba shell hook --shell=bash)\"\n",
        "\n",
        "# Activate the 'lab11' environment created earlier\n",
        "micromamba activate lab11\n",
        "\n",
        "# Run the 'bwa' command to check if the tool was installed correctly\n",
        "bwa 2>&1 | head -n 10"
      ]
    },
    {
      "cell_type": "markdown",
      "metadata": {
        "id": "Mn0C4Bf1Avzt"
      },
      "source": [
        "**<small>Genomic Data Analysis</small>**"
      ]
    },
    {
      "cell_type": "code",
      "execution_count": 14,
      "metadata": {
        "colab": {
          "base_uri": "https://localhost:8080/"
        },
        "id": "NeYLERFAvxDy",
        "outputId": "3e08d21b-c869-4230-e4d3-4ba5664b4b09"
      },
      "outputs": [
        {
          "name": "stderr",
          "output_type": "stream",
          "text": [
            "--2025-07-02 10:47:40--  https://ftp.1000genomes.ebi.ac.uk/vol1/ftp/data_collections/1KG_ONT_VIENNA/release/v1.0/svarp/svtigs/NA12878/NA12878_svtigs_H1.fa.gz\n",
            "Resolving ftp.1000genomes.ebi.ac.uk (ftp.1000genomes.ebi.ac.uk)... 193.62.193.167\n",
            "Connecting to ftp.1000genomes.ebi.ac.uk (ftp.1000genomes.ebi.ac.uk)|193.62.193.167|:443... connected.\n",
            "HTTP request sent, awaiting response... 200 OK\n",
            "Length: 2772567 (2.6M) [application/x-gzip]\n",
            "Saving to: ‘NA12878_svtigs_H1.fa.gz’\n",
            "\n",
            "     0K .......... .......... .......... .......... ..........  1%  184K 14s\n",
            "    50K .......... .......... .......... .......... ..........  3%  369K 11s\n",
            "   100K .......... .......... .......... .......... ..........  5%  368K 9s\n",
            "   150K .......... .......... .......... .......... ..........  7% 63.6M 7s\n",
            "   200K .......... .......... .......... .......... ..........  9%  370K 7s\n",
            "   250K .......... .......... .......... .......... .......... 11% 80.1M 5s\n",
            "   300K .......... .......... .......... .......... .......... 12% 63.6M 5s\n",
            "   350K .......... .......... .......... .......... .......... 14% 59.1M 4s\n",
            "   400K .......... .......... .......... .......... .......... 16%  375K 4s\n",
            "   450K .......... .......... .......... .......... .......... 18% 51.2M 4s\n",
            "   500K .......... .......... .......... .......... .......... 20% 85.1M 3s\n",
            "   550K .......... .......... .......... .......... .......... 22% 81.4M 3s\n",
            "   600K .......... .......... .......... .......... .......... 24%  127M 3s\n",
            "   650K .......... .......... .......... .......... .......... 25% 74.5M 2s\n",
            "   700K .......... .......... .......... .......... .......... 27% 66.0M 2s\n",
            "   750K .......... .......... .......... .......... .......... 29% 53.2M 2s\n",
            "   800K .......... .......... .......... .......... .......... 31%  382K 2s\n",
            "   850K .......... .......... .......... .......... .......... 33%  107M 2s\n",
            "   900K .......... .......... .......... .......... .......... 35%  133M 2s\n",
            "   950K .......... .......... .......... .......... .......... 36%  134M 2s\n",
            "  1000K .......... .......... .......... .......... .......... 38%  163M 2s\n",
            "  1050K .......... .......... .......... .......... .......... 40%  111M 1s\n",
            "  1100K .......... .......... .......... .......... .......... 42% 92.4M 1s\n",
            "  1150K .......... .......... .......... .......... .......... 44%  184M 1s\n",
            "  1200K .......... .......... .......... .......... .......... 46% 74.8M 1s\n",
            "  1250K .......... .......... .......... .......... .......... 48%  106M 1s\n",
            "  1300K .......... .......... .......... .......... .......... 49%  149M 1s\n",
            "  1350K .......... .......... .......... .......... .......... 51%  154M 1s\n",
            "  1400K .......... .......... .......... .......... .......... 53%  210M 1s\n",
            "  1450K .......... .......... .......... .......... .......... 55%  180M 1s\n",
            "  1500K .......... .......... .......... .......... .......... 57%  248M 1s\n",
            "  1550K .......... .......... .......... .......... .......... 59%  385K 1s\n",
            "  1600K .......... .......... .......... .......... .......... 60% 50.9M 1s\n",
            "  1650K .......... .......... .......... .......... .......... 62% 89.9M 1s\n",
            "  1700K .......... .......... .......... .......... .......... 64%  115M 1s\n",
            "  1750K .......... .......... .......... .......... .......... 66%  157M 1s\n",
            "  1800K .......... .......... .......... .......... .......... 68%  151M 1s\n",
            "  1850K .......... .......... .......... .......... .......... 70% 94.0M 0s\n",
            "  1900K .......... .......... .......... .......... .......... 72%  102M 0s\n",
            "  1950K .......... .......... .......... .......... .......... 73% 99.0M 0s\n",
            "  2000K .......... .......... .......... .......... .......... 75%  171M 0s\n",
            "  2050K .......... .......... .......... .......... .......... 77%  207M 0s\n",
            "  2100K .......... .......... .......... .......... .......... 79%  178M 0s\n",
            "  2150K .......... .......... .......... .......... .......... 81%  221M 0s\n",
            "  2200K .......... .......... .......... .......... .......... 83%  189M 0s\n",
            "  2250K .......... .......... .......... .......... .......... 84%  214M 0s\n",
            "  2300K .......... .......... .......... .......... .......... 86%  208M 0s\n",
            "  2350K .......... .......... .......... .......... .......... 88%  182M 0s\n",
            "  2400K .......... .......... .......... .......... .......... 90%  222M 0s\n",
            "  2450K .......... .......... .......... .......... .......... 92%  187M 0s\n",
            "  2500K .......... .......... .......... .......... .......... 94%  173M 0s\n",
            "  2550K .......... .......... .......... .......... .......... 96%  212M 0s\n",
            "  2600K .......... .......... .......... .......... .......... 97%  189M 0s\n",
            "  2650K .......... .......... .......... .......... .......... 99%  199M 0s\n",
            "  2700K .......                                               100%  180M=1.1s\n",
            "\n",
            "2025-07-02 10:47:42 (2.42 MB/s) - ‘NA12878_svtigs_H1.fa.gz’ saved [2772567/2772567]\n",
            "\n"
          ]
        }
      ],
      "source": [
        "%%bash\n",
        "# Download the compressed FASTA file containing structural variant contigs (svtigs)\n",
        "# for the NA12878 individual from the 1000 Genomes Project (Oxford Nanopore Vienna dataset)\n",
        "wget https://ftp.1000genomes.ebi.ac.uk/vol1/ftp/data_collections/1KG_ONT_VIENNA/release/v1.0/svarp/svtigs/NA12878/NA12878_svtigs_H1.fa.gz\n",
        "\n",
        "# Uncompress the .gz file to get the actual FASTA file (NA12878_svtigs_H1.fa)\n",
        "gunzip /content/NA12878_svtigs_H1.fa.gz"
      ]
    },
    {
      "cell_type": "code",
      "execution_count": 17,
      "metadata": {
        "colab": {
          "base_uri": "https://localhost:8080/"
        },
        "id": "I8TakTcat8eA",
        "outputId": "7038226c-6a94-4382-cfb0-1a3d3effd5b9"
      },
      "outputs": [
        {
          "name": "stderr",
          "output_type": "stream",
          "text": [
            "[bwa_index] Pack FASTA... 0.12 sec\n",
            "[bwa_index] Construct BWT for the packed sequence...\n",
            "[bwa_index] 5.03 seconds elapse.\n",
            "[bwa_index] Update BWT... 0.06 sec\n",
            "[bwa_index] Pack forward-only FASTA... 0.05 sec\n",
            "[bwa_index] Construct SA from BWT and Occ... 2.33 sec\n",
            "[main] Version: 0.7.19-r1273\n",
            "[main] CMD: bwa index /content/NA12878_svtigs_H1.fa human\n",
            "[main] Real time: 7.693 sec; CPU: 7.583 sec\n"
          ]
        }
      ],
      "source": [
        "%%bash\n",
        "# Initialize the micromamba shell hook for bash\n",
        "# This sets up the shell so that micromamba commands (like activate) work properly\n",
        "eval \"$(/usr/local/micromamba/micromamba shell hook --shell=bash)\"\n",
        "\n",
        "# Activate the 'lab11' environment created earlier\n",
        "micromamba activate lab11\n",
        "\n",
        "# Extract the first 100 lines from the FASTA file and save them into a smaller file named 'test.fasta'\n",
        "head -n 100 /content/NA12878_svtigs_H1.fa > test.fasta\n",
        "\n",
        "# Build BWA index files for the reference genome FASTA file 'Homo_sapiens.GRCh38.dna.chromosome.1.fa'\n",
        "# The generated index files will use the prefix 'human' to identify them\n",
        "bwa index /content/NA12878_svtigs_H1.fa human"
      ]
    },
    {
      "cell_type": "code",
      "execution_count": 18,
      "metadata": {
        "colab": {
          "base_uri": "https://localhost:8080/"
        },
        "id": "v81EQbdsxms4",
        "outputId": "fd352b80-6a28-4558-a70e-5e17cad9abb2"
      },
      "outputs": [
        {
          "name": "stderr",
          "output_type": "stream",
          "text": [
            "\n",
            "gzip: /content/NA12878_svtigs_H1.fa: not in gzip format\n"
          ]
        }
      ],
      "source": [
        "%%bash\n",
        "# Decompress the file 'NA12878_svtigs_H1.fa' and output its contents\n",
        "# Then, take the first 40,000 lines from the decompressed data\n",
        "# Save these lines into a new file named 'test_reads.fastq' for further analysis\n",
        "zcat /content/NA12878_svtigs_H1.fa | head -n 40000 >test_reads.fastq"
      ]
    },
    {
      "cell_type": "code",
      "execution_count": null,
      "metadata": {
        "colab": {
          "base_uri": "https://localhost:8080/"
        },
        "id": "qQv2m1F3yCEj",
        "outputId": "67bac5cf-83b3-4198-cc6c-4529ab2c8658"
      },
      "outputs": [
        {
          "name": "stdout",
          "output_type": "stream",
          "text": [
            "@HD\tVN:1.5\tSO:unsorted\tGO:query\n",
            "@SQ\tSN:H1-s10005_2483\tLN:5940\n",
            "@PG\tID:bwa\tPN:bwa\tVN:0.7.19-r1273\tCL:bwa mem test1_reference.fasta test1.fastq\n"
          ]
        },
        {
          "name": "stderr",
          "output_type": "stream",
          "text": [
            "gzip: SRR101470_2.fastq.gz: No such file or directory\n",
            "[bwa_index] Pack FASTA... 0.00 sec\n",
            "[bwa_index] Construct BWT for the packed sequence...\n",
            "[bwa_index] 0.00 seconds elapse.\n",
            "[bwa_index] Update BWT... 0.00 sec\n",
            "[bwa_index] Pack forward-only FASTA... 0.00 sec\n",
            "[bwa_index] Construct SA from BWT and Occ... 0.00 sec\n",
            "[main] Version: 0.7.19-r1273\n",
            "[main] CMD: bwa index test1_reference.fasta test1_reference\n",
            "[main] Real time: 0.032 sec; CPU: 0.005 sec\n",
            "[M::bwa_idx_load_from_disk] read 0 ALT contigs\n",
            "[main] Version: 0.7.19-r1273\n",
            "[main] CMD: bwa mem test1_reference.fasta test1.fastq\n",
            "[main] Real time: 0.011 sec; CPU: 0.003 sec\n"
          ]
        }
      ],
      "source": [
        "%%bash\n",
        "# Extract the first 100 lines from the FASTA file and save to 'test1_reference.fasta'\n",
        "head -n 100 /content/test.fasta >test1_reference.fasta\n",
        "\n",
        "# Initialize the micromamba shell hook for bash\n",
        "# This sets up the shell so that micromamba commands (like activate) work properly\n",
        "eval \"$(/usr/local/micromamba/micromamba shell hook --shell=bash)\"\n",
        "\n",
        "# Activate the 'lab11' environment created earlier\n",
        "micromamba activate lab11\n",
        "\n",
        "# Decompress the FASTQ file and extract the first 20,000 lines to create a smaller sample 'test1.fastq'\n",
        "zcat SRR101470_2.fastq.gz | head -n 20000 >test1.fastq\n",
        "\n",
        "# Build BWA index files for the reference genome 'test1_reference.fasta'\n",
        "# The index files will be prefixed with 'test1_reference'\n",
        "bwa index test1_reference.fasta test1_reference\n",
        "\n",
        "# Align the reads in 'test1.fastq' against the indexed reference genome\n",
        "# Output the alignment in SAM format to 'test1.sam'\n",
        "bwa mem test1_reference.fasta test1.fastq >test1.sam\n",
        "\n",
        "# Display the first 100 lines of the SAM alignment output to verify results\n",
        "head -100 test1.sam"
      ]
    },
    {
      "cell_type": "code",
      "execution_count": 21,
      "metadata": {
        "id": "6KHpgncYyf0p"
      },
      "outputs": [],
      "source": [
        "%%bash\n",
        "# Initialize the micromamba shell hook for bash\n",
        "# This sets up the shell so that micromamba commands (like activate) work properly\n",
        "eval \"$(/usr/local/micromamba/micromamba shell hook --shell=bash)\"\n",
        "\n",
        "# Activate the 'lab11' environment created earlier\n",
        "micromamba activate lab11\n",
        "\n",
        "# Filter lines from 'test1.sam' where the 9th field (insert size or template length) is not zero\n",
        "# This can help exclude unmapped or improperly paired reads, focusing on reads with meaningful alignment info\n",
        "awk '{if ($9 != 0)}' test1.sam"
      ]
    },
    {
      "cell_type": "code",
      "execution_count": 27,
      "metadata": {
        "colab": {
          "base_uri": "https://localhost:8080/"
        },
        "id": "s4mL64fF0eVr",
        "outputId": "dc9a6096-abf3-41a3-936e-8f2c7a16c438"
      },
      "outputs": [
        {
          "name": "stdout",
          "output_type": "stream",
          "text": [
            "\n",
            "\n",
            "Transaction\n",
            "\n",
            "  Prefix: /usr/local/envs/lab11\n",
            "\n",
            "  Updating specs:\n",
            "\n",
            "   - fastqc\n",
            "\n",
            "\n",
            "  Package     Version  Build  Channel       Size\n",
            "──────────────────────────────────────────────────\n",
            "  Install:\n",
            "──────────────────────────────────────────────────\n",
            "\n",
            "  + fastqc     0.11.5  1      bioconda      10MB\n",
            "  + java-jdk   8.0.92  1      bioconda     128MB\n",
            "\n",
            "  Summary:\n",
            "\n",
            "  Install: 2 packages\n",
            "\n",
            "  Total download: 138MB\n",
            "\n",
            "──────────────────────────────────────────────────\n",
            "\n",
            "\n",
            "\n",
            "Transaction starting\n",
            "Linking java-jdk-8.0.92-1\n",
            "Linking fastqc-0.11.5-1\n",
            "\n",
            "Transaction finished\n",
            "\n"
          ]
        }
      ],
      "source": [
        "%%bash\n",
        "# Initialize the micromamba shell hook for bash\n",
        "# This sets up the shell so that micromamba commands (like activate) work properly\n",
        "eval \"$(/usr/local/micromamba/micromamba shell hook --shell=bash)\"\n",
        "\n",
        "# Install the 'fastqc' package into the 'lab11' environment from the bioconda channel, auto-confirming prompts\n",
        "micromamba install -n lab11 -c bioconda fastqc --yes"
      ]
    },
    {
      "cell_type": "code",
      "execution_count": 50,
      "metadata": {
        "colab": {
          "base_uri": "https://localhost:8080/"
        },
        "id": "4MJh1Fn9zWrr",
        "outputId": "5c6598af-9426-48ca-fbab-23465aecd6e1"
      },
      "outputs": [
        {
          "name": "stdout",
          "output_type": "stream",
          "text": [
            "Analysis complete for test1.fastq\n"
          ]
        },
        {
          "name": "stderr",
          "output_type": "stream",
          "text": [
            "Started analysis of test1.fastq\n",
            "Failed to process file test1.fastq\n",
            "java.lang.ArrayIndexOutOfBoundsException: -1\n",
            "\tat uk.ac.babraham.FastQC.Modules.SequenceLengthDistribution.calculateDistribution(SequenceLengthDistribution.java:100)\n",
            "\tat uk.ac.babraham.FastQC.Modules.SequenceLengthDistribution.raisesError(SequenceLengthDistribution.java:184)\n",
            "\tat uk.ac.babraham.FastQC.Report.HTMLReportArchive.startDocument(HTMLReportArchive.java:336)\n",
            "\tat uk.ac.babraham.FastQC.Report.HTMLReportArchive.<init>(HTMLReportArchive.java:84)\n",
            "\tat uk.ac.babraham.FastQC.Analysis.OfflineRunner.analysisComplete(OfflineRunner.java:155)\n",
            "\tat uk.ac.babraham.FastQC.Analysis.AnalysisRunner.run(AnalysisRunner.java:110)\n",
            "\tat java.lang.Thread.run(Thread.java:745)\n"
          ]
        }
      ],
      "source": [
        "%%bash\n",
        "# Initialize the micromamba shell hook for bash\n",
        "# This sets up the shell so that micromamba commands (like activate) work properly\n",
        "eval \"$(/usr/local/micromamba/micromamba shell hook --shell=bash)\"\n",
        "\n",
        "# Activate the 'lab11' environment created earlier\n",
        "micromamba activate lab11\n",
        "\n",
        "# Run FastQC quality control analysis on the input FASTQ file located at /content/test1.fastq\n",
        "fastqc /content/test1.fastq"
      ]
    }
  ],
  "metadata": {
    "colab": {
      "provenance": []
    },
    "kernelspec": {
      "display_name": "Python 3",
      "name": "python3"
    },
    "language_info": {
      "name": "python"
    }
  },
  "nbformat": 4,
  "nbformat_minor": 0
}
